{
 "cells": [
  {
   "cell_type": "code",
   "execution_count": 1,
   "metadata": {
    "collapsed": false
   },
   "outputs": [
    {
     "name": "stderr",
     "output_type": "stream",
     "text": [
      "/usr/local/lib/python2.7/dist-packages/matplotlib/__init__.py:872: UserWarning: axes.color_cycle is deprecated and replaced with axes.prop_cycle; please use the latter.\n",
      "  warnings.warn(self.msg_depr % (key, alt_key))\n"
     ]
    }
   ],
   "source": [
    "import requests\n",
    "import numpy as np\n",
    "import pandas as pd\n",
    "import seaborn as sns\n",
    "import matplotlib.pyplot as plt\n",
    "from IPython.display import IFrame\n",
    "import matplotlib.font_manager as fm\n",
    "\n",
    "plt.style.use('ggplot')\n",
    "%matplotlib inline\n",
    "pd.options.display.max_columns=25"
   ]
  },
  {
   "cell_type": "code",
   "execution_count": 3,
   "metadata": {
    "collapsed": false
   },
   "outputs": [
    {
     "data": {
      "text/plain": [
       "[u'resource', u'resultSets', u'parameters']"
      ]
     },
     "execution_count": 3,
     "metadata": {},
     "output_type": "execute_result"
    }
   ],
   "source": [
    "url = 'http://stats.nba.com/stats/shotchartdetail?'\\\n",
    "        'CFID=&CFPARAMS=&ContextFilter=&ContextMeasure=FGA'\\\n",
    "        '&Counter=1000&DateFrom=&DateTo=&Direction=DESC'\\\n",
    "        '&GameID=0021500051&GameSegment=&LastNGames=0&LeagueID=00'\\\n",
    "        '&Location=&Month=0&OpponentTeamID=0&Outcome=&Period=0'\\\n",
    "        '&PlayerID=0&PlayerOrTeam=T&Position=&RookieYear='\\\n",
    "        '&Season=2015-16&SeasonSegment=&SeasonType=Regular+Season'\\\n",
    "        '&Sorter=PTS&TeamID=1610612744&VsConference=&VsDivision='\n",
    "response = requests.get(url)\n",
    "response.json().keys()"
   ]
  },
  {
   "cell_type": "code",
   "execution_count": 18,
   "metadata": {
    "collapsed": false
   },
   "outputs": [
    {
     "name": "stdout",
     "output_type": "stream",
     "text": [
      "shotchartdetail\n"
     ]
    },
    {
     "data": {
      "text/plain": [
       "{u'AheadBehind': None,\n",
       " u'ClutchTime': None,\n",
       " u'ContextFilter': u'',\n",
       " u'ContextMeasure': u'FGA',\n",
       " u'DateFrom': None,\n",
       " u'DateTo': None,\n",
       " u'EndPeriod': None,\n",
       " u'EndRange': None,\n",
       " u'GameID': u'0021500051',\n",
       " u'GameSegment': None,\n",
       " u'LastNGames': 0,\n",
       " u'LeagueID': u'00',\n",
       " u'Location': None,\n",
       " u'Month': 0,\n",
       " u'OpponentTeamID': 0,\n",
       " u'Outcome': None,\n",
       " u'Period': 0,\n",
       " u'PlayerID': 0,\n",
       " u'PointDiff': None,\n",
       " u'Position': None,\n",
       " u'RangeType': None,\n",
       " u'RookieYear': None,\n",
       " u'Season': u'2015-16',\n",
       " u'SeasonSegment': None,\n",
       " u'SeasonType': u'Regular Season',\n",
       " u'StartPeriod': None,\n",
       " u'StartRange': None,\n",
       " u'TeamID': 1610612744,\n",
       " u'VsConference': None,\n",
       " u'VsDivision': None}"
      ]
     },
     "execution_count": 18,
     "metadata": {},
     "output_type": "execute_result"
    }
   ],
   "source": [
    "resource = response.json()[\"resource\"]\n",
    "resultsSets = response.json()[\"resultSets\"]\n",
    "parameters = response.json()[\"parameters\"]\n",
    "print resource\n",
    "parameters"
   ]
  },
  {
   "cell_type": "code",
   "execution_count": 6,
   "metadata": {
    "collapsed": false
   },
   "outputs": [
    {
     "name": "stdout",
     "output_type": "stream",
     "text": [
      "<type 'list'>\n"
     ]
    }
   ],
   "source": [
    "print type(resultsSets)"
   ]
  },
  {
   "cell_type": "code",
   "execution_count": 7,
   "metadata": {
    "collapsed": false
   },
   "outputs": [
    {
     "name": "stdout",
     "output_type": "stream",
     "text": [
      "2\n"
     ]
    }
   ],
   "source": [
    "print len(resultsSets)"
   ]
  },
  {
   "cell_type": "code",
   "execution_count": 11,
   "metadata": {
    "collapsed": false
   },
   "outputs": [
    {
     "data": {
      "text/plain": [
       "[dict, dict]"
      ]
     },
     "execution_count": 11,
     "metadata": {},
     "output_type": "execute_result"
    }
   ],
   "source": [
    "[type(r) for r in resultsSets]"
   ]
  },
  {
   "cell_type": "code",
   "execution_count": 13,
   "metadata": {
    "collapsed": false
   },
   "outputs": [
    {
     "data": {
      "text/plain": [
       "[[u'headers', u'rowSet', u'name'], [u'headers', u'rowSet', u'name']]"
      ]
     },
     "execution_count": 13,
     "metadata": {},
     "output_type": "execute_result"
    }
   ],
   "source": [
    "[r.keys() for r in resultsSets]"
   ]
  },
  {
   "cell_type": "code",
   "execution_count": 14,
   "metadata": {
    "collapsed": false
   },
   "outputs": [
    {
     "data": {
      "text/plain": [
       "[u'Shot_Chart_Detail', u'LeagueAverages']"
      ]
     },
     "execution_count": 14,
     "metadata": {},
     "output_type": "execute_result"
    }
   ],
   "source": [
    "[r['name'] for r in resultsSets]"
   ]
  },
  {
   "cell_type": "code",
   "execution_count": 15,
   "metadata": {
    "collapsed": false
   },
   "outputs": [
    {
     "data": {
      "text/plain": [
       "[u'GRID_TYPE',\n",
       " u'GAME_ID',\n",
       " u'GAME_EVENT_ID',\n",
       " u'PLAYER_ID',\n",
       " u'PLAYER_NAME',\n",
       " u'TEAM_ID',\n",
       " u'TEAM_NAME',\n",
       " u'PERIOD',\n",
       " u'MINUTES_REMAINING',\n",
       " u'SECONDS_REMAINING',\n",
       " u'EVENT_TYPE',\n",
       " u'ACTION_TYPE',\n",
       " u'SHOT_TYPE',\n",
       " u'SHOT_ZONE_BASIC',\n",
       " u'SHOT_ZONE_AREA',\n",
       " u'SHOT_ZONE_RANGE',\n",
       " u'SHOT_DISTANCE',\n",
       " u'LOC_X',\n",
       " u'LOC_Y',\n",
       " u'SHOT_ATTEMPTED_FLAG',\n",
       " u'SHOT_MADE_FLAG']"
      ]
     },
     "execution_count": 15,
     "metadata": {},
     "output_type": "execute_result"
    }
   ],
   "source": [
    "resultsSets[0]['headers']"
   ]
  },
  {
   "cell_type": "code",
   "execution_count": 17,
   "metadata": {
    "collapsed": false
   },
   "outputs": [
    {
     "data": {
      "text/plain": [
       "[u'Shot Chart Detail',\n",
       " u'0021500051',\n",
       " 4,\n",
       " 203084,\n",
       " u'Harrison Barnes',\n",
       " 1610612744,\n",
       " u'Golden State Warriors',\n",
       " 1,\n",
       " 11,\n",
       " 27,\n",
       " u'Missed Shot',\n",
       " u'Turnaround Jump Shot',\n",
       " u'2PT Field Goal',\n",
       " u'Mid-Range',\n",
       " u'Left Side(L)',\n",
       " u'8-16 ft.',\n",
       " 11,\n",
       " -110,\n",
       " 46,\n",
       " 1,\n",
       " 0]"
      ]
     },
     "execution_count": 17,
     "metadata": {},
     "output_type": "execute_result"
    }
   ],
   "source": [
    "resultsSets[0]['rowSet'][0]"
   ]
  },
  {
   "cell_type": "markdown",
   "metadata": {},
   "source": [
    "Let's load the `resultsSets[0]` into a dataframe using the header for column labels"
   ]
  },
  {
   "cell_type": "code",
   "execution_count": 21,
   "metadata": {
    "collapsed": false
   },
   "outputs": [
    {
     "data": {
      "text/html": [
       "<div>\n",
       "<table border=\"1\" class=\"dataframe\">\n",
       "  <thead>\n",
       "    <tr style=\"text-align: right;\">\n",
       "      <th></th>\n",
       "      <th>GRID_TYPE</th>\n",
       "      <th>GAME_ID</th>\n",
       "      <th>GAME_EVENT_ID</th>\n",
       "      <th>PLAYER_ID</th>\n",
       "      <th>PLAYER_NAME</th>\n",
       "      <th>TEAM_ID</th>\n",
       "      <th>TEAM_NAME</th>\n",
       "      <th>PERIOD</th>\n",
       "      <th>MINUTES_REMAINING</th>\n",
       "      <th>SECONDS_REMAINING</th>\n",
       "      <th>EVENT_TYPE</th>\n",
       "      <th>ACTION_TYPE</th>\n",
       "      <th>SHOT_TYPE</th>\n",
       "      <th>SHOT_ZONE_BASIC</th>\n",
       "      <th>SHOT_ZONE_AREA</th>\n",
       "      <th>SHOT_ZONE_RANGE</th>\n",
       "      <th>SHOT_DISTANCE</th>\n",
       "      <th>LOC_X</th>\n",
       "      <th>LOC_Y</th>\n",
       "      <th>SHOT_ATTEMPTED_FLAG</th>\n",
       "      <th>SHOT_MADE_FLAG</th>\n",
       "    </tr>\n",
       "  </thead>\n",
       "  <tbody>\n",
       "    <tr>\n",
       "      <th>0</th>\n",
       "      <td>Shot Chart Detail</td>\n",
       "      <td>0021500051</td>\n",
       "      <td>4</td>\n",
       "      <td>203084</td>\n",
       "      <td>Harrison Barnes</td>\n",
       "      <td>1610612744</td>\n",
       "      <td>Golden State Warriors</td>\n",
       "      <td>1</td>\n",
       "      <td>11</td>\n",
       "      <td>27</td>\n",
       "      <td>Missed Shot</td>\n",
       "      <td>Turnaround Jump Shot</td>\n",
       "      <td>2PT Field Goal</td>\n",
       "      <td>Mid-Range</td>\n",
       "      <td>Left Side(L)</td>\n",
       "      <td>8-16 ft.</td>\n",
       "      <td>11</td>\n",
       "      <td>-110</td>\n",
       "      <td>46</td>\n",
       "      <td>1</td>\n",
       "      <td>0</td>\n",
       "    </tr>\n",
       "    <tr>\n",
       "      <th>1</th>\n",
       "      <td>Shot Chart Detail</td>\n",
       "      <td>0021500051</td>\n",
       "      <td>11</td>\n",
       "      <td>201939</td>\n",
       "      <td>Stephen Curry</td>\n",
       "      <td>1610612744</td>\n",
       "      <td>Golden State Warriors</td>\n",
       "      <td>1</td>\n",
       "      <td>10</td>\n",
       "      <td>36</td>\n",
       "      <td>Made Shot</td>\n",
       "      <td>Jump Shot</td>\n",
       "      <td>3PT Field Goal</td>\n",
       "      <td>Above the Break 3</td>\n",
       "      <td>Left Side Center(LC)</td>\n",
       "      <td>24+ ft.</td>\n",
       "      <td>28</td>\n",
       "      <td>-210</td>\n",
       "      <td>188</td>\n",
       "      <td>1</td>\n",
       "      <td>1</td>\n",
       "    </tr>\n",
       "    <tr>\n",
       "      <th>2</th>\n",
       "      <td>Shot Chart Detail</td>\n",
       "      <td>0021500051</td>\n",
       "      <td>13</td>\n",
       "      <td>203110</td>\n",
       "      <td>Draymond Green</td>\n",
       "      <td>1610612744</td>\n",
       "      <td>Golden State Warriors</td>\n",
       "      <td>1</td>\n",
       "      <td>10</td>\n",
       "      <td>5</td>\n",
       "      <td>Made Shot</td>\n",
       "      <td>Jump Shot</td>\n",
       "      <td>3PT Field Goal</td>\n",
       "      <td>Above the Break 3</td>\n",
       "      <td>Left Side Center(LC)</td>\n",
       "      <td>24+ ft.</td>\n",
       "      <td>26</td>\n",
       "      <td>-173</td>\n",
       "      <td>203</td>\n",
       "      <td>1</td>\n",
       "      <td>1</td>\n",
       "    </tr>\n",
       "    <tr>\n",
       "      <th>3</th>\n",
       "      <td>Shot Chart Detail</td>\n",
       "      <td>0021500051</td>\n",
       "      <td>17</td>\n",
       "      <td>201939</td>\n",
       "      <td>Stephen Curry</td>\n",
       "      <td>1610612744</td>\n",
       "      <td>Golden State Warriors</td>\n",
       "      <td>1</td>\n",
       "      <td>9</td>\n",
       "      <td>34</td>\n",
       "      <td>Made Shot</td>\n",
       "      <td>Running Jump Shot</td>\n",
       "      <td>2PT Field Goal</td>\n",
       "      <td>Mid-Range</td>\n",
       "      <td>Left Side Center(LC)</td>\n",
       "      <td>16-24 ft.</td>\n",
       "      <td>20</td>\n",
       "      <td>-160</td>\n",
       "      <td>120</td>\n",
       "      <td>1</td>\n",
       "      <td>1</td>\n",
       "    </tr>\n",
       "    <tr>\n",
       "      <th>4</th>\n",
       "      <td>Shot Chart Detail</td>\n",
       "      <td>0021500051</td>\n",
       "      <td>26</td>\n",
       "      <td>203084</td>\n",
       "      <td>Harrison Barnes</td>\n",
       "      <td>1610612744</td>\n",
       "      <td>Golden State Warriors</td>\n",
       "      <td>1</td>\n",
       "      <td>8</td>\n",
       "      <td>35</td>\n",
       "      <td>Missed Shot</td>\n",
       "      <td>Turnaround Jump Shot</td>\n",
       "      <td>2PT Field Goal</td>\n",
       "      <td>Restricted Area</td>\n",
       "      <td>Center(C)</td>\n",
       "      <td>Less Than 8 ft.</td>\n",
       "      <td>3</td>\n",
       "      <td>22</td>\n",
       "      <td>26</td>\n",
       "      <td>1</td>\n",
       "      <td>0</td>\n",
       "    </tr>\n",
       "  </tbody>\n",
       "</table>\n",
       "</div>"
      ],
      "text/plain": [
       "           GRID_TYPE     GAME_ID  GAME_EVENT_ID  PLAYER_ID      PLAYER_NAME  \\\n",
       "0  Shot Chart Detail  0021500051              4     203084  Harrison Barnes   \n",
       "1  Shot Chart Detail  0021500051             11     201939    Stephen Curry   \n",
       "2  Shot Chart Detail  0021500051             13     203110   Draymond Green   \n",
       "3  Shot Chart Detail  0021500051             17     201939    Stephen Curry   \n",
       "4  Shot Chart Detail  0021500051             26     203084  Harrison Barnes   \n",
       "\n",
       "      TEAM_ID              TEAM_NAME  PERIOD  MINUTES_REMAINING  \\\n",
       "0  1610612744  Golden State Warriors       1                 11   \n",
       "1  1610612744  Golden State Warriors       1                 10   \n",
       "2  1610612744  Golden State Warriors       1                 10   \n",
       "3  1610612744  Golden State Warriors       1                  9   \n",
       "4  1610612744  Golden State Warriors       1                  8   \n",
       "\n",
       "   SECONDS_REMAINING   EVENT_TYPE           ACTION_TYPE       SHOT_TYPE  \\\n",
       "0                 27  Missed Shot  Turnaround Jump Shot  2PT Field Goal   \n",
       "1                 36    Made Shot             Jump Shot  3PT Field Goal   \n",
       "2                  5    Made Shot             Jump Shot  3PT Field Goal   \n",
       "3                 34    Made Shot     Running Jump Shot  2PT Field Goal   \n",
       "4                 35  Missed Shot  Turnaround Jump Shot  2PT Field Goal   \n",
       "\n",
       "     SHOT_ZONE_BASIC        SHOT_ZONE_AREA  SHOT_ZONE_RANGE  SHOT_DISTANCE  \\\n",
       "0          Mid-Range          Left Side(L)         8-16 ft.             11   \n",
       "1  Above the Break 3  Left Side Center(LC)          24+ ft.             28   \n",
       "2  Above the Break 3  Left Side Center(LC)          24+ ft.             26   \n",
       "3          Mid-Range  Left Side Center(LC)        16-24 ft.             20   \n",
       "4    Restricted Area             Center(C)  Less Than 8 ft.              3   \n",
       "\n",
       "   LOC_X  LOC_Y  SHOT_ATTEMPTED_FLAG  SHOT_MADE_FLAG  \n",
       "0   -110     46                    1               0  \n",
       "1   -210    188                    1               1  \n",
       "2   -173    203                    1               1  \n",
       "3   -160    120                    1               1  \n",
       "4     22     26                    1               0  "
      ]
     },
     "execution_count": 21,
     "metadata": {},
     "output_type": "execute_result"
    }
   ],
   "source": [
    "sc_df = pd.DataFrame(resultsSets[0]['rowSet'],columns=resultsSets[0]['headers'])\n",
    "sc_df.head(5)"
   ]
  },
  {
   "cell_type": "code",
   "execution_count": 25,
   "metadata": {
    "collapsed": false
   },
   "outputs": [
    {
     "data": {
      "image/png": "[encoded data removed]",
      "text/plain": [
       "<matplotlib.figure.Figure at 0x7f007ad67f90>"
      ]
     },
     "metadata": {},
     "output_type": "display_data"
    }
   ],
   "source": [
    "\n",
    "plt.style.use('seaborn-white')\n",
    "fig = plt.figure(figsize=(15, 11.5))\n",
    "\n",
    "scat = plt.scatter(x=sc_df.LOC_X,y=sc_df.LOC_Y,c=sc_df.SHOT_MADE_FLAG,\n",
    "    cmap=plt.cm.RdYlGn, s=100, zorder=1)\n",
    "#plt.style.use('grayscale')\n",
    "#court = plt.imread(\"img/halfcourt.png\")\n",
    "#img = plt.imshow(court, zorder=0, extent=[0,94,50,0])\n",
    "#plt.style.use('seaborn-white')\n",
    "#cbar = fig.colorbar(scat,orientation='vertical',fraction=0.025)\n",
    "#cbar.ax.invert_xaxis()\n",
    "#cbar.ax.set_ylabel('Ball height (ft.) above court')\n",
    "# xaxis is 0-94 ft. yaxis 50-0 feet (inverted)\n",
    "#import matplotlib.font_manager as fm\n",
    "# zorder should be less than zorder of scatter, so court is drawn first.\n",
    "#annotation_font = fm.FontProperties(family='Bitstream Vera Sans',style='normal',size=10,weight='normal',stretch='normal')\n",
    "#scat.annotate('[START] Connelly drives baseline',\n",
    "#              xy = ball_xdat\n",
    "\n",
    "#\n",
    "#plt.imshow(court, zorder=0, extent=[0,94,50,0])\n",
    "\n",
    "#plt.xlim(0,94)\n",
    "plt.show()"
   ]
  },
  {
   "cell_type": "code",
   "execution_count": null,
   "metadata": {
    "collapsed": true
   },
   "outputs": [],
   "source": [
    "\n",
    "plt.style.use('seaborn-white')\n",
    "fig = plt.figure(figsize=(15, 11.5))\n",
    "\n",
    "scat = plt.scatter(x=ball_xdat,y=ball_ydat,c=ball_zdat,\n",
    "    cmap=plt.cm.RdBu, s=300, zorder=1)\n",
    "plt.style.use('grayscale')\n",
    "court = plt.imread(\"img/fullcourt.png\")\n",
    "img = plt.imshow(court, zorder=0, extent=[0,94,50,0])\n",
    "plt.style.use('seaborn-white')\n",
    "cbar = fig.colorbar(scat,orientation='vertical',fraction=0.025)\n",
    "cbar.ax.invert_xaxis()\n",
    "cbar.ax.set_ylabel('Ball height (ft.) above court')\n",
    "# xaxis is 0-94 ft. yaxis 50-0 feet (inverted)\n",
    "import matplotlib.font_manager as fm\n",
    "# zorder should be less than zorder of scatter, so court is drawn first.\n",
    "annotation_font = fm.FontProperties(family='Bitstream Vera Sans',style='normal',size=10,weight='normal',stretch='normal')\n",
    "scat.annotate('[START] Connelly drives baseline',\n",
    "              xy = ball_xdat\n",
    "\n",
    "#\n",
    "#plt.imshow(court, zorder=0, extent=[0,94,50,0])\n",
    "\n",
    "#plt.xlim(0,94)\n",
    "plt.show()"
   ]
  }
 ],
 "metadata": {
  "kernelspec": {
   "display_name": "Python 2",
   "language": "python",
   "name": "python2"
  },
  "language_info": {
   "codemirror_mode": {
    "name": "ipython",
    "version": 2
   },
   "file_extension": ".py",
   "mimetype": "text/x-python",
   "name": "python",
   "nbconvert_exporter": "python",
   "pygments_lexer": "ipython2",
   "version": "2.7.6"
  }
 },
 "nbformat": 4,
 "nbformat_minor": 0
}
