{
 "cells": [
  {
   "cell_type": "code",
   "execution_count": 1,
   "metadata": {
    "collapsed": false
   },
   "outputs": [
    {
     "name": "stderr",
     "output_type": "stream",
     "text": [
      "/usr/local/lib/python2.7/dist-packages/matplotlib/__init__.py:872: UserWarning: axes.color_cycle is deprecated and replaced with axes.prop_cycle; please use the latter.\n",
      "  warnings.warn(self.msg_depr % (key, alt_key))\n"
     ]
    }
   ],
   "source": [
    "import requests\n",
    "import numpy as np\n",
    "import pandas as pd\n",
    "import seaborn as sns\n",
    "import matplotlib.pyplot as plt\n",
    "from IPython.display import IFrame\n",
    "import matplotlib.font_manager as fm\n",
    "\n",
    "plt.style.use('ggplot')\n",
    "%matplotlib inline\n",
    "pd.options.display.max_columns=25"
   ]
  },
  {
   "cell_type": "markdown",
   "metadata": {},
   "source": [
    "### The Play\n",
    "This play is from the Golden State Warriors - Memphis Grizzlies game on November 2, 2015. The Warriors wound up winning by 50 points, and the third quarter was a showcase of Steph Curry's talents.  In this play from the 3rd quarter, The Grizzlies' (Red) Mike Conley (11) dribbles baseline and kicks out to Matt Barnes (22) behind the 3-point arc who chucks up a brick that gets rebounded by Steph Curry (30). He begins to lead the offensive attack, and quickly three other Warriors are even with him at half court leading to a 4 on 3 break. Curry stops at the 3-point arc, drawing two defenders. From his left hand, he takes the ball behind his back, and the two defenders are convinced he's passing to Andre Igudala (9), but Curry brings the ball to his right hand and threads a pass between defenders to a cutting James Michael McAdoo (20) for the dunk. Watch the play below, or on nba.com [here](http://stats.nba.com/cvp.html?GameID=0021500051&GameEventID=383)"
   ]
  },
  {
   "cell_type": "code",
   "execution_count": 2,
   "metadata": {
    "collapsed": false
   },
   "outputs": [
    {
     "data": {
      "text/html": [
       "\n",
       "        <iframe\n",
       "            width=\"900\"\n",
       "            height=\"400\"\n",
       "            src=\"http://stats.nba.com/cvp.html?GameID=0021500051&GameEventID=383\"\n",
       "            frameborder=\"0\"\n",
       "            allowfullscreen\n",
       "        ></iframe>\n",
       "        "
      ],
      "text/plain": [
       "<IPython.lib.display.IFrame at 0x7f22c61c2590>"
      ]
     },
     "execution_count": 2,
     "metadata": {},
     "output_type": "execute_result"
    }
   ],
   "source": [
    "IFrame('http://stats.nba.com/cvp.html?GameID=0021500051&GameEventID=383',width=900,height=400)"
   ]
  },
  {
   "cell_type": "code",
   "execution_count": 3,
   "metadata": {
    "collapsed": false
   },
   "outputs": [
    {
     "data": {
      "text/html": [
       "\n",
       "        <iframe\n",
       "            width=\"700\"\n",
       "            height=\"400\"\n",
       "            src=\"http://stats.nba.com/movement/#!/?GameID=0021500051&GameEventID=383\"\n",
       "            frameborder=\"0\"\n",
       "            allowfullscreen\n",
       "        ></iframe>\n",
       "        "
      ],
      "text/plain": [
       "<IPython.lib.display.IFrame at 0x7f22c61bc590>"
      ]
     },
     "execution_count": 3,
     "metadata": {},
     "output_type": "execute_result"
    }
   ],
   "source": [
    "IFrame('http://stats.nba.com/movement/#!/?GameID=0021500051&GameEventID=383',width=700,height=400)"
   ]
  },
  {
   "cell_type": "code",
   "execution_count": 4,
   "metadata": {
    "collapsed": false
   },
   "outputs": [
    {
     "data": {
      "text/plain": [
       "[u'moments', u'visitor', u'gamedate', u'gameid', u'home']"
      ]
     },
     "execution_count": 4,
     "metadata": {},
     "output_type": "execute_result"
    }
   ],
   "source": [
    "url = 'http://stats.nba.com/stats/locations_getmoments/?eventid=383&gameid=0021500051'\n",
    "response = requests.get(url)\n",
    "response.json().keys()"
   ]
  },
  {
   "cell_type": "markdown",
   "metadata": {},
   "source": [
    "# tracking data\n",
    "Our keys returned are:\n",
    "* moments \n",
    "* visitor\n",
    "* home \n",
    "* gamedate\n",
    "* gameid\n",
    "\n",
    "Let's move home, visitor, and moments to their own variables. Then print out gamedate and gameid to see if there is anything else they contain."
   ]
  },
  {
   "cell_type": "code",
   "execution_count": 5,
   "metadata": {
    "collapsed": false
   },
   "outputs": [
    {
     "name": "stdout",
     "output_type": "stream",
     "text": [
      "2015-11-02\n",
      "0021500051\n"
     ]
    }
   ],
   "source": [
    "home = response.json()[\"home\"]\n",
    "visitor = response.json()[\"visitor\"]\n",
    "moments = response.json()[\"moments\"]\n",
    "print response.json()[\"gamedate\"]\n",
    "print response.json()[\"gameid\"]"
   ]
  },
  {
   "cell_type": "markdown",
   "metadata": {},
   "source": [
    "## gamedate & gameid\n",
    "Nothing of interest in gamedate and gameid (we already know this information just to look up the data).\n",
    "\n",
    "Let's examine home data"
   ]
  },
  {
   "cell_type": "code",
   "execution_count": 6,
   "metadata": {
    "collapsed": false
   },
   "outputs": [
    {
     "data": {
      "text/plain": [
       "{u'abbreviation': u'GSW',\n",
       " u'name': u'Golden State Warriors',\n",
       " u'players': [{u'firstname': u'Leandro',\n",
       "   u'jersey': u'19',\n",
       "   u'lastname': u'Barbosa',\n",
       "   u'playerid': 2571,\n",
       "   u'position': u'G'},\n",
       "  {u'firstname': u'Shaun',\n",
       "   u'jersey': u'34',\n",
       "   u'lastname': u'Livingston',\n",
       "   u'playerid': 2733,\n",
       "   u'position': u'G'},\n",
       "  {u'firstname': u'Andre',\n",
       "   u'jersey': u'9',\n",
       "   u'lastname': u'Iguodala',\n",
       "   u'playerid': 2738,\n",
       "   u'position': u'G-F'},\n",
       "  {u'firstname': u'Jason',\n",
       "   u'jersey': u'1',\n",
       "   u'lastname': u'Thompson',\n",
       "   u'playerid': 201574,\n",
       "   u'position': u'F-C'},\n",
       "  {u'firstname': u'Brandon',\n",
       "   u'jersey': u'4',\n",
       "   u'lastname': u'Rush',\n",
       "   u'playerid': 201575,\n",
       "   u'position': u'G-F'},\n",
       "  {u'firstname': u'Marreese',\n",
       "   u'jersey': u'5',\n",
       "   u'lastname': u'Speights',\n",
       "   u'playerid': 201578,\n",
       "   u'position': u'F-C'},\n",
       "  {u'firstname': u'Stephen',\n",
       "   u'jersey': u'30',\n",
       "   u'lastname': u'Curry',\n",
       "   u'playerid': 201939,\n",
       "   u'position': u'G'},\n",
       "  {u'firstname': u'Klay',\n",
       "   u'jersey': u'11',\n",
       "   u'lastname': u'Thompson',\n",
       "   u'playerid': 202691,\n",
       "   u'position': u'G'},\n",
       "  {u'firstname': u'Harrison',\n",
       "   u'jersey': u'40',\n",
       "   u'lastname': u'Barnes',\n",
       "   u'playerid': 203084,\n",
       "   u'position': u'F'},\n",
       "  {u'firstname': u'Festus',\n",
       "   u'jersey': u'31',\n",
       "   u'lastname': u'Ezeli',\n",
       "   u'playerid': 203105,\n",
       "   u'position': u'C'},\n",
       "  {u'firstname': u'Draymond',\n",
       "   u'jersey': u'23',\n",
       "   u'lastname': u'Green',\n",
       "   u'playerid': 203110,\n",
       "   u'position': u'F'},\n",
       "  {u'firstname': u'Ian',\n",
       "   u'jersey': u'21',\n",
       "   u'lastname': u'Clark',\n",
       "   u'playerid': 203546,\n",
       "   u'position': u'G'},\n",
       "  {u'firstname': u'James Michael',\n",
       "   u'jersey': u'20',\n",
       "   u'lastname': u'McAdoo',\n",
       "   u'playerid': 203949,\n",
       "   u'position': u'F'}],\n",
       " u'teamid': 1610612744}"
      ]
     },
     "execution_count": 6,
     "metadata": {},
     "output_type": "execute_result"
    }
   ],
   "source": [
    "home"
   ]
  },
  {
   "cell_type": "markdown",
   "metadata": {},
   "source": [
    "## home/visitor data\n",
    "visitor/home - contains all information about visiting/home team\n",
    "* teamid - teamid from the API\n",
    "* name\n",
    "* abbreviation\n",
    "* players\n",
    "  * playerid - playerid from the API\n",
    "  * firstname\n",
    "  * lastname\n",
    "  * jersey - jersey number\n",
    "  * position - position the player plays (C,F,G,G-F,F-C)"
   ]
  },
  {
   "cell_type": "code",
   "execution_count": 7,
   "metadata": {
    "collapsed": false
   },
   "outputs": [
    {
     "data": {
      "text/plain": [
       "251"
      ]
     },
     "execution_count": 7,
     "metadata": {},
     "output_type": "execute_result"
    }
   ],
   "source": [
    "len(moments)"
   ]
  },
  {
   "cell_type": "code",
   "execution_count": 8,
   "metadata": {
    "collapsed": false
   },
   "outputs": [
    {
     "data": {
      "text/plain": [
       "[3,\n",
       " 1446527673002,\n",
       " 132.22,\n",
       " 7.09,\n",
       " None,\n",
       " [[-1, -1, 14.64474, 44.48211, 2.25707],\n",
       "  [1610612744, 2738, 18.86386, 23.97772, 0.0],\n",
       "  [1610612744, 201939, 18.87993, 41.50729, 0.0],\n",
       "  [1610612744, 202691, 5.05095, 29.13419, 0.0],\n",
       "  [1610612744, 203110, 12.88533, 34.84216, 0.0],\n",
       "  [1610612744, 203949, 8.88615, 20.38291, 0.0],\n",
       "  [1610612763, 2440, 27.47547, 8.76582, 0.0],\n",
       "  [1610612763, 201145, 9.42341, 11.88861, 0.0],\n",
       "  [1610612763, 201584, 4.219, 16.40298, 0.0],\n",
       "  [1610612763, 201144, 16.38252, 44.27504, 0.0],\n",
       "  [1610612763, 201188, 19.68304, 35.52727, 0.0]]]"
      ]
     },
     "execution_count": 8,
     "metadata": {},
     "output_type": "execute_result"
    }
   ],
   "source": [
    "moments[0]"
   ]
  },
  {
   "cell_type": "markdown",
   "metadata": {},
   "source": [
    "## moments\n",
    "\n",
    "moments - contain tracking data. `len(moments)` is number of moments in the eventid (here, 251), usually .04 seconds apart. So for this data, I have about 10.04 seconds. __Note:__ this data can and did change from day to day. Previously, there were 275 moments, or 11 seconds.\n",
    "\n",
    "a single element in moments contains times and positions of all players and ball. Let's examine the output above:\n",
    "* the __first__ element `moments[0][0]` is `3`, the __quarter__.\n",
    "* the __second__ element `moments[0][1]` is `1446527673002`, the __unix timestamp__.\n",
    "* the __third__ element `moments[0][2]` is `132.22`, and decreases as moments increase. it is the __seconds left in the quarter__\n",
    "* the __fourth__ element `moments[0][3]` is `7.09`, and decreases as moments increase, then reset to 24. it is __seconds left in the shot clock__\n",
    "* the __fifth__ element `moments[0][4]` is `None`, and is that value for all elements in moments. I'm not sure what this value is __?__\n",
    "* the __sixth__ element `moments[0][5]` is a list of lists indicating __teamid, playerid, x, y, z__\n",
    "\n",
    "To reiterate, the first 5 elements:"
   ]
  },
  {
   "cell_type": "code",
   "execution_count": 9,
   "metadata": {
    "collapsed": false
   },
   "outputs": [
    {
     "data": {
      "text/plain": [
       "[3, 1446527673002, 132.22, 7.09, None]"
      ]
     },
     "execution_count": 9,
     "metadata": {},
     "output_type": "execute_result"
    }
   ],
   "source": [
    "moments[0][0:5]"
   ]
  },
  {
   "cell_type": "markdown",
   "metadata": {},
   "source": [
    "`[quarter, unixtime, timeleftgame, timeleftshot, unknown]`\n",
    "are the labels.\n",
    "\n",
    "Let's look at the ball (element 0):"
   ]
  },
  {
   "cell_type": "code",
   "execution_count": 10,
   "metadata": {
    "collapsed": false
   },
   "outputs": [
    {
     "data": {
      "text/plain": [
       "[-1, -1, 14.64474, 44.48211, 2.25707]"
      ]
     },
     "execution_count": 10,
     "metadata": {},
     "output_type": "execute_result"
    }
   ],
   "source": [
    "moments[0][5][0]"
   ]
  },
  {
   "cell_type": "markdown",
   "metadata": {},
   "source": [
    "`[teamid, playerid, x, y, z]`\n",
    "\n",
    "the ball has a `teamid=-1` and `playerid=-1`, and appears to be the only tracked element with a z value.\n",
    "\n",
    "Some have speculated that the z coordinate is the radius of the ball, but let's look at a histogram of values:"
   ]
  },
  {
   "cell_type": "code",
   "execution_count": 11,
   "metadata": {
    "collapsed": false
   },
   "outputs": [
    {
     "data": {
      "image/png": "[encoded data removed]",
      "text/plain": [
       "<matplotlib.figure.Figure at 0x7f2298489f90>"
      ]
     },
     "metadata": {},
     "output_type": "display_data"
    }
   ],
   "source": [
    "ball_zdat = []\n",
    "for m in moments:\n",
    "    ball_zdat.append(m[5][0][4])\n",
    "fig = plt.figure(figsize=(8, 6))\n",
    "plt.hist(ball_zdat,bins=range(1,20))\n",
    "plt.title('Histogram of Z values of basketball')\n",
    "plt.xlabel('Z values')\n",
    "plt.ylabel('Frequency')\n",
    "plt.show()"
   ]
  },
  {
   "cell_type": "markdown",
   "metadata": {},
   "source": [
    "Looking at the histogram, it is likely that the z value is the height, in feet, of the basketball from the floor. The most common values are approximately waist height and below. A few values above the height of the rim (10ft.) would indicate a shot or lob pass. For the ball, let's plot the x,y,and color it by z."
   ]
  },
  {
   "cell_type": "code",
   "execution_count": 13,
   "metadata": {
    "collapsed": false
   },
   "outputs": [
    {
     "data": {
      "image/png": "[encoded data removed]",
      "text/plain": [
       "<matplotlib.figure.Figure at 0x7f22c61bcfd0>"
      ]
     },
     "metadata": {},
     "output_type": "display_data"
    }
   ],
   "source": [
    "plt.style.use('ggplot')\n",
    "fig,ax = plt.subplots(figsize=(8, 6))\n",
    "#scat = plt.scatter(y=ball_zdat,x=np.arange(0,len(ball_zdat))*.04,c=ball_zdat,cmap=plt.cm.RdBu,s=100)\n",
    "scat = plt.scatter(y=ball_zdat,x=np.arange(0,len(ball_zdat))*.04,s=100)\n",
    "\n",
    "court = plt.hlines(0,0,len(ball_zdat)*.04,colors='k')\n",
    "hoop = plt.hlines(10,0,len(ball_zdat)*.04,colors='orange')\n",
    "plt.autoscale(tight=True)\n",
    "plt.tight_layout()\n",
    "plt.ylabel('Ball height (feet)')\n",
    "plt.xlabel('Time from start of event (seconds)')\n",
    "plt.legend((hoop,court),('hoop rim', 'court'),fontsize=12)\n",
    "#cbar = fig.colorbar(scat,orientation='vertical',fraction=0.05)\n",
    "plt.title('Ball height over time',fontsize='x-large')\n",
    "plt.savefig('img/NBA_ballheight.png',dpi=300)\n",
    "plt.show()"
   ]
  },
  {
   "cell_type": "markdown",
   "metadata": {},
   "source": [
    "We can see some of the action in the plot above.\n",
    "* The dribble drive begins it\n",
    "* A lob around 1.75 seconds\n",
    "* A shot around 3 seconds\n",
    "* The shot bouncing off the rim at 4.5 seconds\n",
    "* A few dribbles\n",
    "* A pass and shot from 9 seconds on"
   ]
  },
  {
   "cell_type": "code",
   "execution_count": 14,
   "metadata": {
    "collapsed": false
   },
   "outputs": [
    {
     "data": {
      "image/png": "[encoded data removed]",
      "text/plain": [
       "<matplotlib.figure.Figure at 0x7f2297aaa490>"
      ]
     },
     "metadata": {},
     "output_type": "display_data"
    }
   ],
   "source": [
    "ball_xdat = []\n",
    "ball_ydat = []\n",
    "for m in moments:\n",
    "    ball_xdat.append(m[5][0][2])\n",
    "    ball_ydat.append(m[5][0][3])\n",
    "\n",
    "plt.style.use('seaborn-white')\n",
    "fig = plt.figure(figsize=(15, 11.5))\n",
    "\n",
    "scat = plt.scatter(x=ball_xdat,y=ball_ydat,c=ball_zdat,\n",
    "    cmap=plt.cm.RdBu, s=300, zorder=1)\n",
    "plt.style.use('grayscale')\n",
    "court = plt.imread(\"img/fullcourt.png\")\n",
    "img = plt.imshow(court, zorder=0, extent=[0,94,50,0])\n",
    "plt.style.use('seaborn-white')\n",
    "cbar = fig.colorbar(scat,orientation='vertical',fraction=0.025)\n",
    "cbar.ax.invert_xaxis()\n",
    "cbar.ax.set_ylabel('Ball height (ft.) above court')\n",
    "# xaxis is 0-94 ft. yaxis 50-0 feet (inverted)\n",
    "import matplotlib.font_manager as fm\n",
    "# zorder should be less than zorder of scatter, so court is drawn first.\n",
    "annotation_font = fm.FontProperties(family='Bitstream Vera Sans',style='normal',size=10,weight='normal',stretch='normal')\n",
    "#scat.annotate('[START] Connelly drives baseline',\n",
    "#              xy = ball_xdat\n",
    "\n",
    "#\n",
    "#plt.imshow(court, zorder=0, extent=[0,94,50,0])\n",
    "\n",
    "#plt.xlim(0,94)\n",
    "plt.title('Ball movement',fontsize='x-large')\n",
    "plt.savefig('img/Ball_movement.png',dpi=300)\n",
    "plt.show()"
   ]
  },
  {
   "cell_type": "code",
   "execution_count": 16,
   "metadata": {
    "collapsed": false
   },
   "outputs": [
    {
     "data": {
      "text/plain": [
       "[-1, -1, 14.64474, 44.48211, 2.25707, 0, 132.22, 7.09]"
      ]
     },
     "execution_count": 16,
     "metadata": {},
     "output_type": "execute_result"
    }
   ],
   "source": [
    "moment_data = []\n",
    "for m in moments:\n",
    "    for p in m[5]:\n",
    "        p+=[moments.index(m), m[2],m[3]]\n",
    "        moment_data.append(p)\n",
    "\n",
    "moment_data[0]"
   ]
  },
  {
   "cell_type": "code",
   "execution_count": 17,
   "metadata": {
    "collapsed": false
   },
   "outputs": [
    {
     "data": {
      "text/html": [
       "<div>\n",
       "<table border=\"1\" class=\"dataframe\">\n",
       "  <thead>\n",
       "    <tr style=\"text-align: right;\">\n",
       "      <th></th>\n",
       "      <th>teamID</th>\n",
       "      <th>playerID</th>\n",
       "      <th>xloc</th>\n",
       "      <th>yloc</th>\n",
       "      <th>zloc</th>\n",
       "      <th>moment</th>\n",
       "      <th>gametime</th>\n",
       "      <th>shottime</th>\n",
       "    </tr>\n",
       "  </thead>\n",
       "  <tbody>\n",
       "    <tr>\n",
       "      <th>0</th>\n",
       "      <td>-1</td>\n",
       "      <td>-1</td>\n",
       "      <td>14.64474</td>\n",
       "      <td>44.48211</td>\n",
       "      <td>2.25707</td>\n",
       "      <td>0</td>\n",
       "      <td>132.22</td>\n",
       "      <td>7.09</td>\n",
       "    </tr>\n",
       "    <tr>\n",
       "      <th>1</th>\n",
       "      <td>1610612744</td>\n",
       "      <td>2738</td>\n",
       "      <td>18.86386</td>\n",
       "      <td>23.97772</td>\n",
       "      <td>0.00000</td>\n",
       "      <td>0</td>\n",
       "      <td>132.22</td>\n",
       "      <td>7.09</td>\n",
       "    </tr>\n",
       "    <tr>\n",
       "      <th>2</th>\n",
       "      <td>1610612744</td>\n",
       "      <td>201939</td>\n",
       "      <td>18.87993</td>\n",
       "      <td>41.50729</td>\n",
       "      <td>0.00000</td>\n",
       "      <td>0</td>\n",
       "      <td>132.22</td>\n",
       "      <td>7.09</td>\n",
       "    </tr>\n",
       "    <tr>\n",
       "      <th>3</th>\n",
       "      <td>1610612744</td>\n",
       "      <td>202691</td>\n",
       "      <td>5.05095</td>\n",
       "      <td>29.13419</td>\n",
       "      <td>0.00000</td>\n",
       "      <td>0</td>\n",
       "      <td>132.22</td>\n",
       "      <td>7.09</td>\n",
       "    </tr>\n",
       "    <tr>\n",
       "      <th>4</th>\n",
       "      <td>1610612744</td>\n",
       "      <td>203110</td>\n",
       "      <td>12.88533</td>\n",
       "      <td>34.84216</td>\n",
       "      <td>0.00000</td>\n",
       "      <td>0</td>\n",
       "      <td>132.22</td>\n",
       "      <td>7.09</td>\n",
       "    </tr>\n",
       "    <tr>\n",
       "      <th>5</th>\n",
       "      <td>1610612744</td>\n",
       "      <td>203949</td>\n",
       "      <td>8.88615</td>\n",
       "      <td>20.38291</td>\n",
       "      <td>0.00000</td>\n",
       "      <td>0</td>\n",
       "      <td>132.22</td>\n",
       "      <td>7.09</td>\n",
       "    </tr>\n",
       "    <tr>\n",
       "      <th>6</th>\n",
       "      <td>1610612763</td>\n",
       "      <td>2440</td>\n",
       "      <td>27.47547</td>\n",
       "      <td>8.76582</td>\n",
       "      <td>0.00000</td>\n",
       "      <td>0</td>\n",
       "      <td>132.22</td>\n",
       "      <td>7.09</td>\n",
       "    </tr>\n",
       "    <tr>\n",
       "      <th>7</th>\n",
       "      <td>1610612763</td>\n",
       "      <td>201145</td>\n",
       "      <td>9.42341</td>\n",
       "      <td>11.88861</td>\n",
       "      <td>0.00000</td>\n",
       "      <td>0</td>\n",
       "      <td>132.22</td>\n",
       "      <td>7.09</td>\n",
       "    </tr>\n",
       "    <tr>\n",
       "      <th>8</th>\n",
       "      <td>1610612763</td>\n",
       "      <td>201584</td>\n",
       "      <td>4.21900</td>\n",
       "      <td>16.40298</td>\n",
       "      <td>0.00000</td>\n",
       "      <td>0</td>\n",
       "      <td>132.22</td>\n",
       "      <td>7.09</td>\n",
       "    </tr>\n",
       "    <tr>\n",
       "      <th>9</th>\n",
       "      <td>1610612763</td>\n",
       "      <td>201144</td>\n",
       "      <td>16.38252</td>\n",
       "      <td>44.27504</td>\n",
       "      <td>0.00000</td>\n",
       "      <td>0</td>\n",
       "      <td>132.22</td>\n",
       "      <td>7.09</td>\n",
       "    </tr>\n",
       "    <tr>\n",
       "      <th>10</th>\n",
       "      <td>1610612763</td>\n",
       "      <td>201188</td>\n",
       "      <td>19.68304</td>\n",
       "      <td>35.52727</td>\n",
       "      <td>0.00000</td>\n",
       "      <td>0</td>\n",
       "      <td>132.22</td>\n",
       "      <td>7.09</td>\n",
       "    </tr>\n",
       "    <tr>\n",
       "      <th>11</th>\n",
       "      <td>-1</td>\n",
       "      <td>-1</td>\n",
       "      <td>14.33244</td>\n",
       "      <td>44.58121</td>\n",
       "      <td>2.58479</td>\n",
       "      <td>1</td>\n",
       "      <td>132.18</td>\n",
       "      <td>7.06</td>\n",
       "    </tr>\n",
       "    <tr>\n",
       "      <th>12</th>\n",
       "      <td>1610612744</td>\n",
       "      <td>2738</td>\n",
       "      <td>18.88402</td>\n",
       "      <td>24.07005</td>\n",
       "      <td>0.00000</td>\n",
       "      <td>1</td>\n",
       "      <td>132.18</td>\n",
       "      <td>7.06</td>\n",
       "    </tr>\n",
       "    <tr>\n",
       "      <th>13</th>\n",
       "      <td>1610612744</td>\n",
       "      <td>201939</td>\n",
       "      <td>18.58140</td>\n",
       "      <td>41.39098</td>\n",
       "      <td>0.00000</td>\n",
       "      <td>1</td>\n",
       "      <td>132.18</td>\n",
       "      <td>7.06</td>\n",
       "    </tr>\n",
       "    <tr>\n",
       "      <th>14</th>\n",
       "      <td>1610612744</td>\n",
       "      <td>202691</td>\n",
       "      <td>5.04115</td>\n",
       "      <td>28.73857</td>\n",
       "      <td>0.00000</td>\n",
       "      <td>1</td>\n",
       "      <td>132.18</td>\n",
       "      <td>7.06</td>\n",
       "    </tr>\n",
       "  </tbody>\n",
       "</table>\n",
       "</div>"
      ],
      "text/plain": [
       "        teamID  playerID      xloc      yloc     zloc  moment  gametime  \\\n",
       "0           -1        -1  14.64474  44.48211  2.25707       0    132.22   \n",
       "1   1610612744      2738  18.86386  23.97772  0.00000       0    132.22   \n",
       "2   1610612744    201939  18.87993  41.50729  0.00000       0    132.22   \n",
       "3   1610612744    202691   5.05095  29.13419  0.00000       0    132.22   \n",
       "4   1610612744    203110  12.88533  34.84216  0.00000       0    132.22   \n",
       "5   1610612744    203949   8.88615  20.38291  0.00000       0    132.22   \n",
       "6   1610612763      2440  27.47547   8.76582  0.00000       0    132.22   \n",
       "7   1610612763    201145   9.42341  11.88861  0.00000       0    132.22   \n",
       "8   1610612763    201584   4.21900  16.40298  0.00000       0    132.22   \n",
       "9   1610612763    201144  16.38252  44.27504  0.00000       0    132.22   \n",
       "10  1610612763    201188  19.68304  35.52727  0.00000       0    132.22   \n",
       "11          -1        -1  14.33244  44.58121  2.58479       1    132.18   \n",
       "12  1610612744      2738  18.88402  24.07005  0.00000       1    132.18   \n",
       "13  1610612744    201939  18.58140  41.39098  0.00000       1    132.18   \n",
       "14  1610612744    202691   5.04115  28.73857  0.00000       1    132.18   \n",
       "\n",
       "    shottime  \n",
       "0       7.09  \n",
       "1       7.09  \n",
       "2       7.09  \n",
       "3       7.09  \n",
       "4       7.09  \n",
       "5       7.09  \n",
       "6       7.09  \n",
       "7       7.09  \n",
       "8       7.09  \n",
       "9       7.09  \n",
       "10      7.09  \n",
       "11      7.06  \n",
       "12      7.06  \n",
       "13      7.06  \n",
       "14      7.06  "
      ]
     },
     "execution_count": 17,
     "metadata": {},
     "output_type": "execute_result"
    }
   ],
   "source": [
    "pm_df = pd.DataFrame(data=moment_data,columns=['teamID','playerID','xloc','yloc','zloc','moment','gametime','shottime'])\n",
    "pm_df.head(15)"
   ]
  },
  {
   "cell_type": "code",
   "execution_count": 18,
   "metadata": {
    "collapsed": false
   },
   "outputs": [
    {
     "data": {
      "text/html": [
       "<div>\n",
       "<table border=\"1\" class=\"dataframe\">\n",
       "  <thead>\n",
       "    <tr style=\"text-align: right;\">\n",
       "      <th></th>\n",
       "      <th>playerid</th>\n",
       "      <th>lastname</th>\n",
       "      <th>jersey</th>\n",
       "      <th>firstname</th>\n",
       "      <th>position</th>\n",
       "      <th>team</th>\n",
       "    </tr>\n",
       "  </thead>\n",
       "  <tbody>\n",
       "    <tr>\n",
       "      <th>0</th>\n",
       "      <td>2571</td>\n",
       "      <td>Barbosa</td>\n",
       "      <td>19</td>\n",
       "      <td>Leandro</td>\n",
       "      <td>G</td>\n",
       "      <td>GSW</td>\n",
       "    </tr>\n",
       "    <tr>\n",
       "      <th>1</th>\n",
       "      <td>2733</td>\n",
       "      <td>Livingston</td>\n",
       "      <td>34</td>\n",
       "      <td>Shaun</td>\n",
       "      <td>G</td>\n",
       "      <td>GSW</td>\n",
       "    </tr>\n",
       "    <tr>\n",
       "      <th>2</th>\n",
       "      <td>2738</td>\n",
       "      <td>Iguodala</td>\n",
       "      <td>9</td>\n",
       "      <td>Andre</td>\n",
       "      <td>G-F</td>\n",
       "      <td>GSW</td>\n",
       "    </tr>\n",
       "    <tr>\n",
       "      <th>3</th>\n",
       "      <td>201574</td>\n",
       "      <td>Thompson</td>\n",
       "      <td>1</td>\n",
       "      <td>Jason</td>\n",
       "      <td>F-C</td>\n",
       "      <td>GSW</td>\n",
       "    </tr>\n",
       "    <tr>\n",
       "      <th>4</th>\n",
       "      <td>201575</td>\n",
       "      <td>Rush</td>\n",
       "      <td>4</td>\n",
       "      <td>Brandon</td>\n",
       "      <td>G-F</td>\n",
       "      <td>GSW</td>\n",
       "    </tr>\n",
       "    <tr>\n",
       "      <th>5</th>\n",
       "      <td>201578</td>\n",
       "      <td>Speights</td>\n",
       "      <td>5</td>\n",
       "      <td>Marreese</td>\n",
       "      <td>F-C</td>\n",
       "      <td>GSW</td>\n",
       "    </tr>\n",
       "    <tr>\n",
       "      <th>6</th>\n",
       "      <td>201939</td>\n",
       "      <td>Curry</td>\n",
       "      <td>30</td>\n",
       "      <td>Stephen</td>\n",
       "      <td>G</td>\n",
       "      <td>GSW</td>\n",
       "    </tr>\n",
       "    <tr>\n",
       "      <th>7</th>\n",
       "      <td>202691</td>\n",
       "      <td>Thompson</td>\n",
       "      <td>11</td>\n",
       "      <td>Klay</td>\n",
       "      <td>G</td>\n",
       "      <td>GSW</td>\n",
       "    </tr>\n",
       "    <tr>\n",
       "      <th>8</th>\n",
       "      <td>203084</td>\n",
       "      <td>Barnes</td>\n",
       "      <td>40</td>\n",
       "      <td>Harrison</td>\n",
       "      <td>F</td>\n",
       "      <td>GSW</td>\n",
       "    </tr>\n",
       "    <tr>\n",
       "      <th>9</th>\n",
       "      <td>203105</td>\n",
       "      <td>Ezeli</td>\n",
       "      <td>31</td>\n",
       "      <td>Festus</td>\n",
       "      <td>C</td>\n",
       "      <td>GSW</td>\n",
       "    </tr>\n",
       "    <tr>\n",
       "      <th>10</th>\n",
       "      <td>203110</td>\n",
       "      <td>Green</td>\n",
       "      <td>23</td>\n",
       "      <td>Draymond</td>\n",
       "      <td>F</td>\n",
       "      <td>GSW</td>\n",
       "    </tr>\n",
       "    <tr>\n",
       "      <th>11</th>\n",
       "      <td>203546</td>\n",
       "      <td>Clark</td>\n",
       "      <td>21</td>\n",
       "      <td>Ian</td>\n",
       "      <td>G</td>\n",
       "      <td>GSW</td>\n",
       "    </tr>\n",
       "    <tr>\n",
       "      <th>12</th>\n",
       "      <td>203949</td>\n",
       "      <td>McAdoo</td>\n",
       "      <td>20</td>\n",
       "      <td>James Michael</td>\n",
       "      <td>F</td>\n",
       "      <td>GSW</td>\n",
       "    </tr>\n",
       "    <tr>\n",
       "      <th>0</th>\n",
       "      <td>1713</td>\n",
       "      <td>Carter</td>\n",
       "      <td>15</td>\n",
       "      <td>Vince</td>\n",
       "      <td>G-F</td>\n",
       "      <td>MEM</td>\n",
       "    </tr>\n",
       "    <tr>\n",
       "      <th>1</th>\n",
       "      <td>2216</td>\n",
       "      <td>Randolph</td>\n",
       "      <td>50</td>\n",
       "      <td>Zach</td>\n",
       "      <td>F</td>\n",
       "      <td>MEM</td>\n",
       "    </tr>\n",
       "    <tr>\n",
       "      <th>2</th>\n",
       "      <td>2440</td>\n",
       "      <td>Barnes</td>\n",
       "      <td>22</td>\n",
       "      <td>Matt</td>\n",
       "      <td>F</td>\n",
       "      <td>MEM</td>\n",
       "    </tr>\n",
       "    <tr>\n",
       "      <th>3</th>\n",
       "      <td>2754</td>\n",
       "      <td>Allen</td>\n",
       "      <td>9</td>\n",
       "      <td>Tony</td>\n",
       "      <td>F-G</td>\n",
       "      <td>MEM</td>\n",
       "    </tr>\n",
       "    <tr>\n",
       "      <th>4</th>\n",
       "      <td>2757</td>\n",
       "      <td>Udrih</td>\n",
       "      <td>19</td>\n",
       "      <td>Beno</td>\n",
       "      <td>G</td>\n",
       "      <td>MEM</td>\n",
       "    </tr>\n",
       "    <tr>\n",
       "      <th>5</th>\n",
       "      <td>201144</td>\n",
       "      <td>Conley</td>\n",
       "      <td>11</td>\n",
       "      <td>Mike</td>\n",
       "      <td>G</td>\n",
       "      <td>MEM</td>\n",
       "    </tr>\n",
       "    <tr>\n",
       "      <th>6</th>\n",
       "      <td>201145</td>\n",
       "      <td>Green</td>\n",
       "      <td>32</td>\n",
       "      <td>Jeff</td>\n",
       "      <td>F</td>\n",
       "      <td>MEM</td>\n",
       "    </tr>\n",
       "    <tr>\n",
       "      <th>7</th>\n",
       "      <td>201148</td>\n",
       "      <td>Wright</td>\n",
       "      <td>34</td>\n",
       "      <td>Brandan</td>\n",
       "      <td>F</td>\n",
       "      <td>MEM</td>\n",
       "    </tr>\n",
       "    <tr>\n",
       "      <th>8</th>\n",
       "      <td>201188</td>\n",
       "      <td>Gasol</td>\n",
       "      <td>33</td>\n",
       "      <td>Marc</td>\n",
       "      <td>C</td>\n",
       "      <td>MEM</td>\n",
       "    </tr>\n",
       "    <tr>\n",
       "      <th>9</th>\n",
       "      <td>201584</td>\n",
       "      <td>Lee</td>\n",
       "      <td>5</td>\n",
       "      <td>Courtney</td>\n",
       "      <td>G</td>\n",
       "      <td>MEM</td>\n",
       "    </tr>\n",
       "    <tr>\n",
       "      <th>10</th>\n",
       "      <td>203210</td>\n",
       "      <td>Green</td>\n",
       "      <td>0</td>\n",
       "      <td>JaMychal</td>\n",
       "      <td>F</td>\n",
       "      <td>MEM</td>\n",
       "    </tr>\n",
       "    <tr>\n",
       "      <th>11</th>\n",
       "      <td>203893</td>\n",
       "      <td>Smith</td>\n",
       "      <td>2</td>\n",
       "      <td>Russ</td>\n",
       "      <td>G</td>\n",
       "      <td>MEM</td>\n",
       "    </tr>\n",
       "    <tr>\n",
       "      <th>12</th>\n",
       "      <td>203919</td>\n",
       "      <td>Adams</td>\n",
       "      <td>3</td>\n",
       "      <td>Jordan</td>\n",
       "      <td>G</td>\n",
       "      <td>MEM</td>\n",
       "    </tr>\n",
       "  </tbody>\n",
       "</table>\n",
       "</div>"
      ],
      "text/plain": [
       "    playerid    lastname jersey      firstname position team\n",
       "0       2571     Barbosa     19        Leandro        G  GSW\n",
       "1       2733  Livingston     34          Shaun        G  GSW\n",
       "2       2738    Iguodala      9          Andre      G-F  GSW\n",
       "3     201574    Thompson      1          Jason      F-C  GSW\n",
       "4     201575        Rush      4        Brandon      G-F  GSW\n",
       "5     201578    Speights      5       Marreese      F-C  GSW\n",
       "6     201939       Curry     30        Stephen        G  GSW\n",
       "7     202691    Thompson     11           Klay        G  GSW\n",
       "8     203084      Barnes     40       Harrison        F  GSW\n",
       "9     203105       Ezeli     31         Festus        C  GSW\n",
       "10    203110       Green     23       Draymond        F  GSW\n",
       "11    203546       Clark     21            Ian        G  GSW\n",
       "12    203949      McAdoo     20  James Michael        F  GSW\n",
       "0       1713      Carter     15          Vince      G-F  MEM\n",
       "1       2216    Randolph     50           Zach        F  MEM\n",
       "2       2440      Barnes     22           Matt        F  MEM\n",
       "3       2754       Allen      9           Tony      F-G  MEM\n",
       "4       2757       Udrih     19           Beno        G  MEM\n",
       "5     201144      Conley     11           Mike        G  MEM\n",
       "6     201145       Green     32           Jeff        F  MEM\n",
       "7     201148      Wright     34        Brandan        F  MEM\n",
       "8     201188       Gasol     33           Marc        C  MEM\n",
       "9     201584         Lee      5       Courtney        G  MEM\n",
       "10    203210       Green      0       JaMychal        F  MEM\n",
       "11    203893       Smith      2           Russ        G  MEM\n",
       "12    203919       Adams      3         Jordan        G  MEM"
      ]
     },
     "execution_count": 18,
     "metadata": {},
     "output_type": "execute_result"
    }
   ],
   "source": [
    "def players_to_df(players):\n",
    "    players_reform=[[rec[arg] for arg in players[\"players\"][0].keys()] for rec in players[\"players\"]]\n",
    "    df=pd.DataFrame(players_reform,columns=players[\"players\"][0].keys())\n",
    "    df['team']=players[\"abbreviation\"]\n",
    "    return df\n",
    "\n",
    "players_df = pd.concat([players_to_df(home),players_to_df(visitor)])\n",
    "players_df"
   ]
  },
  {
   "cell_type": "code",
   "execution_count": 19,
   "metadata": {
    "collapsed": false
   },
   "outputs": [
    {
     "data": {
      "text/html": [
       "<div>\n",
       "<table border=\"1\" class=\"dataframe\">\n",
       "  <thead>\n",
       "    <tr style=\"text-align: right;\">\n",
       "      <th></th>\n",
       "      <th>teamID</th>\n",
       "      <th>playerID</th>\n",
       "      <th>xloc</th>\n",
       "      <th>yloc</th>\n",
       "      <th>zloc</th>\n",
       "      <th>moment</th>\n",
       "      <th>gametime</th>\n",
       "      <th>shottime</th>\n",
       "      <th>playerid</th>\n",
       "      <th>lastname</th>\n",
       "      <th>jersey</th>\n",
       "      <th>firstname</th>\n",
       "      <th>position</th>\n",
       "      <th>team</th>\n",
       "    </tr>\n",
       "  </thead>\n",
       "  <tbody>\n",
       "    <tr>\n",
       "      <th>0</th>\n",
       "      <td>-1</td>\n",
       "      <td>-1</td>\n",
       "      <td>14.64474</td>\n",
       "      <td>44.48211</td>\n",
       "      <td>2.25707</td>\n",
       "      <td>0</td>\n",
       "      <td>132.22</td>\n",
       "      <td>7.09</td>\n",
       "      <td>NaN</td>\n",
       "      <td>NaN</td>\n",
       "      <td>NaN</td>\n",
       "      <td>NaN</td>\n",
       "      <td>NaN</td>\n",
       "      <td>NaN</td>\n",
       "    </tr>\n",
       "    <tr>\n",
       "      <th>1</th>\n",
       "      <td>1610612744</td>\n",
       "      <td>2738</td>\n",
       "      <td>18.86386</td>\n",
       "      <td>23.97772</td>\n",
       "      <td>0.00000</td>\n",
       "      <td>0</td>\n",
       "      <td>132.22</td>\n",
       "      <td>7.09</td>\n",
       "      <td>2738</td>\n",
       "      <td>Iguodala</td>\n",
       "      <td>9</td>\n",
       "      <td>Andre</td>\n",
       "      <td>G-F</td>\n",
       "      <td>GSW</td>\n",
       "    </tr>\n",
       "    <tr>\n",
       "      <th>2</th>\n",
       "      <td>1610612744</td>\n",
       "      <td>201939</td>\n",
       "      <td>18.87993</td>\n",
       "      <td>41.50729</td>\n",
       "      <td>0.00000</td>\n",
       "      <td>0</td>\n",
       "      <td>132.22</td>\n",
       "      <td>7.09</td>\n",
       "      <td>201939</td>\n",
       "      <td>Curry</td>\n",
       "      <td>30</td>\n",
       "      <td>Stephen</td>\n",
       "      <td>G</td>\n",
       "      <td>GSW</td>\n",
       "    </tr>\n",
       "    <tr>\n",
       "      <th>3</th>\n",
       "      <td>1610612744</td>\n",
       "      <td>202691</td>\n",
       "      <td>5.05095</td>\n",
       "      <td>29.13419</td>\n",
       "      <td>0.00000</td>\n",
       "      <td>0</td>\n",
       "      <td>132.22</td>\n",
       "      <td>7.09</td>\n",
       "      <td>202691</td>\n",
       "      <td>Thompson</td>\n",
       "      <td>11</td>\n",
       "      <td>Klay</td>\n",
       "      <td>G</td>\n",
       "      <td>GSW</td>\n",
       "    </tr>\n",
       "    <tr>\n",
       "      <th>4</th>\n",
       "      <td>1610612744</td>\n",
       "      <td>203110</td>\n",
       "      <td>12.88533</td>\n",
       "      <td>34.84216</td>\n",
       "      <td>0.00000</td>\n",
       "      <td>0</td>\n",
       "      <td>132.22</td>\n",
       "      <td>7.09</td>\n",
       "      <td>203110</td>\n",
       "      <td>Green</td>\n",
       "      <td>23</td>\n",
       "      <td>Draymond</td>\n",
       "      <td>F</td>\n",
       "      <td>GSW</td>\n",
       "    </tr>\n",
       "    <tr>\n",
       "      <th>5</th>\n",
       "      <td>1610612744</td>\n",
       "      <td>203949</td>\n",
       "      <td>8.88615</td>\n",
       "      <td>20.38291</td>\n",
       "      <td>0.00000</td>\n",
       "      <td>0</td>\n",
       "      <td>132.22</td>\n",
       "      <td>7.09</td>\n",
       "      <td>203949</td>\n",
       "      <td>McAdoo</td>\n",
       "      <td>20</td>\n",
       "      <td>James Michael</td>\n",
       "      <td>F</td>\n",
       "      <td>GSW</td>\n",
       "    </tr>\n",
       "    <tr>\n",
       "      <th>6</th>\n",
       "      <td>1610612763</td>\n",
       "      <td>2440</td>\n",
       "      <td>27.47547</td>\n",
       "      <td>8.76582</td>\n",
       "      <td>0.00000</td>\n",
       "      <td>0</td>\n",
       "      <td>132.22</td>\n",
       "      <td>7.09</td>\n",
       "      <td>2440</td>\n",
       "      <td>Barnes</td>\n",
       "      <td>22</td>\n",
       "      <td>Matt</td>\n",
       "      <td>F</td>\n",
       "      <td>MEM</td>\n",
       "    </tr>\n",
       "    <tr>\n",
       "      <th>7</th>\n",
       "      <td>1610612763</td>\n",
       "      <td>201145</td>\n",
       "      <td>9.42341</td>\n",
       "      <td>11.88861</td>\n",
       "      <td>0.00000</td>\n",
       "      <td>0</td>\n",
       "      <td>132.22</td>\n",
       "      <td>7.09</td>\n",
       "      <td>201145</td>\n",
       "      <td>Green</td>\n",
       "      <td>32</td>\n",
       "      <td>Jeff</td>\n",
       "      <td>F</td>\n",
       "      <td>MEM</td>\n",
       "    </tr>\n",
       "    <tr>\n",
       "      <th>8</th>\n",
       "      <td>1610612763</td>\n",
       "      <td>201584</td>\n",
       "      <td>4.21900</td>\n",
       "      <td>16.40298</td>\n",
       "      <td>0.00000</td>\n",
       "      <td>0</td>\n",
       "      <td>132.22</td>\n",
       "      <td>7.09</td>\n",
       "      <td>201584</td>\n",
       "      <td>Lee</td>\n",
       "      <td>5</td>\n",
       "      <td>Courtney</td>\n",
       "      <td>G</td>\n",
       "      <td>MEM</td>\n",
       "    </tr>\n",
       "    <tr>\n",
       "      <th>9</th>\n",
       "      <td>1610612763</td>\n",
       "      <td>201144</td>\n",
       "      <td>16.38252</td>\n",
       "      <td>44.27504</td>\n",
       "      <td>0.00000</td>\n",
       "      <td>0</td>\n",
       "      <td>132.22</td>\n",
       "      <td>7.09</td>\n",
       "      <td>201144</td>\n",
       "      <td>Conley</td>\n",
       "      <td>11</td>\n",
       "      <td>Mike</td>\n",
       "      <td>G</td>\n",
       "      <td>MEM</td>\n",
       "    </tr>\n",
       "    <tr>\n",
       "      <th>10</th>\n",
       "      <td>1610612763</td>\n",
       "      <td>201188</td>\n",
       "      <td>19.68304</td>\n",
       "      <td>35.52727</td>\n",
       "      <td>0.00000</td>\n",
       "      <td>0</td>\n",
       "      <td>132.22</td>\n",
       "      <td>7.09</td>\n",
       "      <td>201188</td>\n",
       "      <td>Gasol</td>\n",
       "      <td>33</td>\n",
       "      <td>Marc</td>\n",
       "      <td>C</td>\n",
       "      <td>MEM</td>\n",
       "    </tr>\n",
       "  </tbody>\n",
       "</table>\n",
       "</div>"
      ],
      "text/plain": [
       "        teamID  playerID      xloc      yloc     zloc  moment  gametime  \\\n",
       "0           -1        -1  14.64474  44.48211  2.25707       0    132.22   \n",
       "1   1610612744      2738  18.86386  23.97772  0.00000       0    132.22   \n",
       "2   1610612744    201939  18.87993  41.50729  0.00000       0    132.22   \n",
       "3   1610612744    202691   5.05095  29.13419  0.00000       0    132.22   \n",
       "4   1610612744    203110  12.88533  34.84216  0.00000       0    132.22   \n",
       "5   1610612744    203949   8.88615  20.38291  0.00000       0    132.22   \n",
       "6   1610612763      2440  27.47547   8.76582  0.00000       0    132.22   \n",
       "7   1610612763    201145   9.42341  11.88861  0.00000       0    132.22   \n",
       "8   1610612763    201584   4.21900  16.40298  0.00000       0    132.22   \n",
       "9   1610612763    201144  16.38252  44.27504  0.00000       0    132.22   \n",
       "10  1610612763    201188  19.68304  35.52727  0.00000       0    132.22   \n",
       "\n",
       "    shottime  playerid  lastname jersey      firstname position team  \n",
       "0       7.09       NaN       NaN    NaN            NaN      NaN  NaN  \n",
       "1       7.09      2738  Iguodala      9          Andre      G-F  GSW  \n",
       "2       7.09    201939     Curry     30        Stephen        G  GSW  \n",
       "3       7.09    202691  Thompson     11           Klay        G  GSW  \n",
       "4       7.09    203110     Green     23       Draymond        F  GSW  \n",
       "5       7.09    203949    McAdoo     20  James Michael        F  GSW  \n",
       "6       7.09      2440    Barnes     22           Matt        F  MEM  \n",
       "7       7.09    201145     Green     32           Jeff        F  MEM  \n",
       "8       7.09    201584       Lee      5       Courtney        G  MEM  \n",
       "9       7.09    201144    Conley     11           Mike        G  MEM  \n",
       "10      7.09    201188     Gasol     33           Marc        C  MEM  "
      ]
     },
     "execution_count": 19,
     "metadata": {},
     "output_type": "execute_result"
    }
   ],
   "source": [
    "pm_merge_df = pm_df.merge(players_df,how='left',left_on='playerID',right_on='playerid')\n",
    "pm_merge_df.head(11)"
   ]
  },
  {
   "cell_type": "code",
   "execution_count": 20,
   "metadata": {
    "collapsed": false
   },
   "outputs": [
    {
     "data": {
      "image/png": "[encoded data removed]",
      "text/plain": [
       "<matplotlib.figure.Figure at 0x7f229783a690>"
      ]
     },
     "metadata": {},
     "output_type": "display_data"
    }
   ],
   "source": [
    "from matplotlib.patches import Rectangle, Circle, Arc\n",
    "from matplotlib.collections import PatchCollection\n",
    "import matplotlib as mpl\n",
    "import copy\n",
    "clr='red'\n",
    "\n",
    "def left_court_patches(clr='red'):\n",
    "    # creates the patches for the left hand side of an nba court\n",
    "    # returns: list of patches\n",
    "    rim = Circle((5.25,-25),radius=.75, color=clr, zorder=0, lw=.5, fill=False)\n",
    "    bkbrd = Rectangle((4,-28),width=0, height=6, color=clr, zorder=0,fill=False,lw=1)\n",
    "    ra_arc = Arc((5.25,-25),8,8,theta1=270,theta2=90,color=clr,zorder=9,fill=False,lw=1)\n",
    "    ra_t = Rectangle((4,-21),width=1.25,height=0,color=clr, zorder=0,fill=False,lw=1)\n",
    "    ra_b = Rectangle((4,-29),width=1.25,height=0,color=clr, zorder=0,fill=False,lw=1)\n",
    "    ft = Rectangle((0,-33),width=19,height=16,color=clr, zorder=0,fill=False,lw=1) #*16ft. outside\n",
    "    lane = Rectangle((0,-31),width=19,height=12,color=clr,zorder=0,fill=False,lw=1)#*12ft. outside\n",
    "    ft_ia = Arc((19,-25),12,12,theta1=90,theta2=270,color=clr,zorder=9,fill=False,lw=1,linestyle='--')\n",
    "    ft_oa = Arc((19,-25),12,12,theta1=270,theta2=90,color=clr,zorder=9,fill=False,lw=1)\n",
    "    three_t = Rectangle((0,-3),width=14,height=0,color=clr,zorder=0,fill=False,lw=1)\n",
    "    three_b = Rectangle((0,-47),width=14,height=0,color=clr,zorder=0,fill=False,lw=1)\n",
    "    three_arc = Arc((5.25,-25),23.75*2,23.75*2,theta1=292,theta2=68,color=clr,zorder=0,fill=False,lw=1)\n",
    "    return [rim,bkbrd,ra_arc,ra_t,ra_b,ft,lane,ft_ia,ft_oa,three_t,three_b,three_arc]\n",
    "\n",
    "def draw_full_court(ax=None,clr='red'):\n",
    "    # Draws full court onto axis\n",
    "    # returns: axis\n",
    "    if ax is None:\n",
    "        ax = plt.gca()\n",
    "        \n",
    "    #full court components \n",
    "    fullcourt = Rectangle((0,-50), width=94, height=50, color=clr, zorder=0,fill=False,lw=1) #base and side lines\n",
    "    midcourt = Rectangle((47,-50), width=0, height=50, color = clr, zorder=0,fill=False,lw=1) #half-court line\n",
    "    rest_circ = Circle((47,-25),radius=2,color=clr,zorder=0,lw=1,fill=False) #restraining circle\n",
    "    cent_circ = Circle((47,-25),radius=6,color=clr,zorder=0,lw=1,fill=False) #center circle\n",
    "    patch_list = [fullcourt,midcourt,rest_circ,cent_circ]\n",
    "    for patch in patch_list:\n",
    "        ax.add_patch(patch)\n",
    "    \n",
    "    #left-hand side\n",
    "    left_patches = left_court_patches(clr=clr)\n",
    "    for patch in left_patches:\n",
    "        ax.add_patch(patch)\n",
    "\n",
    "    #right-hand side transform patches by rotating pi radians around center point\n",
    "    right_patches = left_court_patches(clr=clr)\n",
    "    tr = mpl.transforms.Affine2D().rotate_around(47,-25,np.pi) + ax.transData\n",
    "    for patch in right_patches:\n",
    "        patch.set_transform(tr)\n",
    "        ax.add_patch(patch)\n",
    "    return ax\n",
    "\n",
    "plt.style.use('seaborn-white')\n",
    "fig,ax = plt.subplots(figsize=(9.4,5.0))\n",
    "draw_full_court()\n",
    "\n",
    "plt.xlim(0,94)\n",
    "plt.ylim(-50,0)\n",
    "plt.show()"
   ]
  },
  {
   "cell_type": "code",
   "execution_count": 21,
   "metadata": {
    "collapsed": false
   },
   "outputs": [
    {
     "data": {
      "image/png": "[encoded data removed]",
      "text/plain": [
       "<matplotlib.figure.Figure at 0x7f229783ad10>"
      ]
     },
     "metadata": {},
     "output_type": "display_data"
    }
   ],
   "source": [
    "def plot_moment(df,moment=0,tc=['cyan','yellow'],ax=None):\n",
    "    if df is None:\n",
    "        raise ValueError(\"Input 'df' to plot_moment is None\")\n",
    "    if ax is None:\n",
    "        ax=plt.gca()\n",
    "        \n",
    "    binary_mask = (df['moment']==moment)\n",
    "    moment_df = df[binary_mask]\n",
    "    teams = moment_df.team.dropna().unique().tolist()\n",
    "    for t in teams:\n",
    "        team_mask = (moment_df['team']==t)\n",
    "        plt.scatter(x=moment_df[team_mask]['xloc'],y=-moment_df[team_mask]['yloc'],\n",
    "                    c=tc[teams.index(t)], s=200, zorder=1, label=t, edgecolor=tc[teams.index(t)])\n",
    "        for j,x,y in zip(moment_df[team_mask]['jersey'], moment_df[team_mask]['xloc'], moment_df[team_mask]['yloc']):\n",
    "            plt.annotate(j,xy=(x,-y),xytext=(0,0),textcoords='offset points',\n",
    "                         zorder=2, ha='center',va='center',snap=False)\n",
    "        #TODO(maybe): just plot annotations with circular bboxes, no scatter\n",
    "    ball_mask=(moment_df['playerID']==-1)\n",
    "    plt.scatter(x=moment_df[ball_mask]['xloc'],y=-moment_df[ball_mask]['yloc'],\n",
    "                s=100,zorder=3,c='orange',edgecolor='orange',label='ball')\n",
    "\n",
    "plt.style.use('seaborn-white')\n",
    "fig,ax = plt.subplots(figsize=(9.4,5.0))\n",
    "draw_full_court(ax=ax,clr='gray')\n",
    "plot_moment(pm_merge_df)\n",
    "plt.legend(loc='lower right')\n",
    "plt.xlim(0,94)\n",
    "plt.ylim(-50,0)\n",
    "plt.title('Player and Ball position at t=0',fontsize='x-large')\n",
    "plt.savefig('img/Player_ball_positions.png',dpi=300)\n",
    "plt.show()"
   ]
  },
  {
   "cell_type": "code",
   "execution_count": null,
   "metadata": {
    "collapsed": true
   },
   "outputs": [],
   "source": []
  }
 ],
 "metadata": {
  "kernelspec": {
   "display_name": "Python 2",
   "language": "python",
   "name": "python2"
  },
  "language_info": {
   "codemirror_mode": {
    "name": "ipython",
    "version": 2
   },
   "file_extension": ".py",
   "mimetype": "text/x-python",
   "name": "python",
   "nbconvert_exporter": "python",
   "pygments_lexer": "ipython2",
   "version": "2.7.6"
  }
 },
 "nbformat": 4,
 "nbformat_minor": 0
}
