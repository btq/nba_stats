{
 "cells": [
  {
   "cell_type": "code",
   "execution_count": 1,
   "metadata": {
    "collapsed": false
   },
   "outputs": [
    {
     "name": "stderr",
     "output_type": "stream",
     "text": [
      "C:\\Users\\btq\\Anaconda\\envs\\py35\\lib\\site-packages\\matplotlib\\__init__.py:872: UserWarning: axes.color_cycle is deprecated and replaced with axes.prop_cycle; please use the latter.\n",
      "  warnings.warn(self.msg_depr % (key, alt_key))\n"
     ]
    }
   ],
   "source": [
    "import re\n",
    "import requests\n",
    "import numpy as np\n",
    "import pandas as pd\n",
    "import seaborn as sns\n",
    "import matplotlib as mpl\n",
    "from sklearn import metrics\n",
    "import matplotlib.pyplot as plt\n",
    "from IPython.display import IFrame\n",
    "from sklearn.cluster import KMeans\n",
    "import matplotlib.font_manager as fm\n",
    "from matplotlib.collections import PatchCollection\n",
    "from matplotlib.patches import Rectangle, Circle, Arc\n",
    "\n",
    "#plt.style.use('ggplot')\n",
    "%matplotlib inline\n",
    "pd.options.display.max_columns=25"
   ]
  },
  {
   "cell_type": "code",
   "execution_count": 3,
   "metadata": {
    "collapsed": false
   },
   "outputs": [
    {
     "data": {
      "text/html": [
       "<div>\n",
       "<table border=\"1\" class=\"dataframe\">\n",
       "  <thead>\n",
       "    <tr style=\"text-align: right;\">\n",
       "      <th></th>\n",
       "      <th>PERSON_ID</th>\n",
       "      <th>DISPLAY_LAST_COMMA_FIRST</th>\n",
       "      <th>ROSTERSTATUS</th>\n",
       "      <th>FROM_YEAR</th>\n",
       "      <th>TO_YEAR</th>\n",
       "      <th>PLAYERCODE</th>\n",
       "      <th>TEAM_ID</th>\n",
       "      <th>TEAM_CITY</th>\n",
       "      <th>TEAM_NAME</th>\n",
       "      <th>TEAM_ABBREVIATION</th>\n",
       "      <th>TEAM_CODE</th>\n",
       "      <th>GAMES_PLAYED_FLAG</th>\n",
       "    </tr>\n",
       "  </thead>\n",
       "  <tbody>\n",
       "    <tr>\n",
       "      <th>0</th>\n",
       "      <td>203112</td>\n",
       "      <td>Acy, Quincy</td>\n",
       "      <td>1</td>\n",
       "      <td>2012</td>\n",
       "      <td>2015</td>\n",
       "      <td>quincy_acy</td>\n",
       "      <td>1610612758</td>\n",
       "      <td>Sacramento</td>\n",
       "      <td>Kings</td>\n",
       "      <td>SAC</td>\n",
       "      <td>kings</td>\n",
       "      <td>Y</td>\n",
       "    </tr>\n",
       "    <tr>\n",
       "      <th>1</th>\n",
       "      <td>203919</td>\n",
       "      <td>Adams, Jordan</td>\n",
       "      <td>1</td>\n",
       "      <td>2014</td>\n",
       "      <td>2015</td>\n",
       "      <td>jordan_adams</td>\n",
       "      <td>1610612763</td>\n",
       "      <td>Memphis</td>\n",
       "      <td>Grizzlies</td>\n",
       "      <td>MEM</td>\n",
       "      <td>grizzlies</td>\n",
       "      <td>Y</td>\n",
       "    </tr>\n",
       "    <tr>\n",
       "      <th>2</th>\n",
       "      <td>203500</td>\n",
       "      <td>Adams, Steven</td>\n",
       "      <td>1</td>\n",
       "      <td>2013</td>\n",
       "      <td>2015</td>\n",
       "      <td>steven_adams</td>\n",
       "      <td>1610612760</td>\n",
       "      <td>Oklahoma City</td>\n",
       "      <td>Thunder</td>\n",
       "      <td>OKC</td>\n",
       "      <td>thunder</td>\n",
       "      <td>Y</td>\n",
       "    </tr>\n",
       "    <tr>\n",
       "      <th>3</th>\n",
       "      <td>201167</td>\n",
       "      <td>Afflalo, Arron</td>\n",
       "      <td>1</td>\n",
       "      <td>2007</td>\n",
       "      <td>2015</td>\n",
       "      <td>arron_afflalo</td>\n",
       "      <td>1610612752</td>\n",
       "      <td>New York</td>\n",
       "      <td>Knicks</td>\n",
       "      <td>NYK</td>\n",
       "      <td>knicks</td>\n",
       "      <td>Y</td>\n",
       "    </tr>\n",
       "    <tr>\n",
       "      <th>4</th>\n",
       "      <td>201582</td>\n",
       "      <td>Ajinca, Alexis</td>\n",
       "      <td>1</td>\n",
       "      <td>2008</td>\n",
       "      <td>2015</td>\n",
       "      <td>alexis_ajinca</td>\n",
       "      <td>1610612740</td>\n",
       "      <td>New Orleans</td>\n",
       "      <td>Pelicans</td>\n",
       "      <td>NOP</td>\n",
       "      <td>pelicans</td>\n",
       "      <td>Y</td>\n",
       "    </tr>\n",
       "  </tbody>\n",
       "</table>\n",
       "</div>"
      ],
      "text/plain": [
       "   PERSON_ID DISPLAY_LAST_COMMA_FIRST  ROSTERSTATUS FROM_YEAR TO_YEAR  \\\n",
       "0     203112              Acy, Quincy             1      2012    2015   \n",
       "1     203919            Adams, Jordan             1      2014    2015   \n",
       "2     203500            Adams, Steven             1      2013    2015   \n",
       "3     201167           Afflalo, Arron             1      2007    2015   \n",
       "4     201582           Ajinca, Alexis             1      2008    2015   \n",
       "\n",
       "      PLAYERCODE     TEAM_ID      TEAM_CITY  TEAM_NAME TEAM_ABBREVIATION  \\\n",
       "0     quincy_acy  1610612758     Sacramento      Kings               SAC   \n",
       "1   jordan_adams  1610612763        Memphis  Grizzlies               MEM   \n",
       "2   steven_adams  1610612760  Oklahoma City    Thunder               OKC   \n",
       "3  arron_afflalo  1610612752       New York     Knicks               NYK   \n",
       "4  alexis_ajinca  1610612740    New Orleans   Pelicans               NOP   \n",
       "\n",
       "   TEAM_CODE GAMES_PLAYED_FLAG  \n",
       "0      kings                 Y  \n",
       "1  grizzlies                 Y  \n",
       "2    thunder                 Y  \n",
       "3     knicks                 Y  \n",
       "4   pelicans                 Y  "
      ]
     },
     "execution_count": 3,
     "metadata": {},
     "output_type": "execute_result"
    }
   ],
   "source": [
    "cap_url = \"http://stats.nba.com/stats/commonallplayers?\"\n",
    "cap_param = {'IsOnlyCurrentSeason':\"1\",\n",
    "                      'LeagueID': u'00',\n",
    "                      'Season': u'2015-16'}\n",
    "cap_resp = requests.get(cap_url, params=cap_param)\n",
    "cap_df = pd.DataFrame(cap_resp.json()['resultSets'][0]['rowSet'],columns=cap_resp.json()['resultSets'][0]['headers'])\n",
    "cap_df.head()"
   ]
  },
  {
   "cell_type": "code",
   "execution_count": 19,
   "metadata": {
    "collapsed": false
   },
   "outputs": [
    {
     "name": "stdout",
     "output_type": "stream",
     "text": [
      "Lebron, James\n"
     ]
    }
   ],
   "source": [
    "def format_name_last_comma_first(name):\n",
    "    if len(name.split())<2:\n",
    "        return 'All'\n",
    "    if ',' in name:\n",
    "        names = name.split(',')\n",
    "    else:\n",
    "        names = name.split()\n",
    "    return names[-1].strip()+', '+' '.join(names[0:-1]).strip()\n",
    "print(format_name_last_comma_first('James, Lebron'))"
   ]
  },
  {
   "cell_type": "code",
   "execution_count": 21,
   "metadata": {
    "collapsed": true
   },
   "outputs": [],
   "source": [
    "def player_lookup(name='All',season='2015-16'):\n",
    "    cap_url = \"http://stats.nba.com/stats/commonallplayers?\"\n",
    "    cap_param = {'IsOnlyCurrentSeason':\"1\",\n",
    "                      'LeagueID': u'00',\n",
    "                      'Season': season}\n",
    "    cap_resp = requests.get(cap_url, params=cap_param)\n",
    "    cap_df = pd.DataFrame(cap_resp.json()['resultSets'][0]['rowSet'],columns=cap_resp.json()['resultSets'][0]['headers'])\n",
    "    return cap_df"
   ]
  },
  {
   "cell_type": "code",
   "execution_count": 32,
   "metadata": {
    "collapsed": false
   },
   "outputs": [
    {
     "name": "stdout",
     "output_type": "stream",
     "text": [
      "     PERSON_ID DISPLAY_LAST_COMMA_FIRST  ROSTERSTATUS FROM_YEAR TO_YEAR  \\\n",
      "163     201933           Griffin, Blake             1      2009    2015   \n",
      "\n",
      "        PLAYERCODE     TEAM_ID    TEAM_CITY TEAM_NAME TEAM_ABBREVIATION  \\\n",
      "163  blake_griffin  1610612746  Los Angeles  Clippers               LAC   \n",
      "\n",
      "    TEAM_CODE GAMES_PLAYED_FLAG  \n",
      "163  clippers                 Y  \n"
     ]
    },
    {
     "ename": "TypeError",
     "evalue": "'numpy.ndarray' object is not callable",
     "output_type": "error",
     "traceback": [
      "\u001b[1;31m---------------------------------------------------------------------------\u001b[0m",
      "\u001b[1;31mTypeError\u001b[0m                                 Traceback (most recent call last)",
      "\u001b[1;32m<ipython-input-32-50fb9fb4e702>\u001b[0m in \u001b[0;36m<module>\u001b[1;34m()\u001b[0m\n\u001b[0;32m      4\u001b[0m \u001b[0mpID\u001b[0m \u001b[1;33m=\u001b[0m \u001b[0mpinfo\u001b[0m\u001b[1;33m[\u001b[0m\u001b[1;34m'PERSON_ID'\u001b[0m\u001b[1;33m]\u001b[0m\u001b[1;33m\u001b[0m\u001b[0m\n\u001b[0;32m      5\u001b[0m \u001b[0mprint\u001b[0m\u001b[1;33m(\u001b[0m\u001b[0mpinfo\u001b[0m\u001b[1;33m.\u001b[0m\u001b[0mhead\u001b[0m\u001b[1;33m(\u001b[0m\u001b[1;33m)\u001b[0m\u001b[1;33m)\u001b[0m\u001b[1;33m\u001b[0m\u001b[0m\n\u001b[1;32m----> 6\u001b[1;33m \u001b[0mprint\u001b[0m\u001b[1;33m(\u001b[0m\u001b[0mstr\u001b[0m\u001b[1;33m(\u001b[0m\u001b[0mpID\u001b[0m\u001b[1;33m.\u001b[0m\u001b[0mvalues\u001b[0m\u001b[1;33m(\u001b[0m\u001b[1;33m)\u001b[0m\u001b[1;33m[\u001b[0m\u001b[1;36m0\u001b[0m\u001b[1;33m]\u001b[0m\u001b[1;33m)\u001b[0m\u001b[1;33m)\u001b[0m\u001b[1;33m\u001b[0m\u001b[0m\n\u001b[0m",
      "\u001b[1;31mTypeError\u001b[0m: 'numpy.ndarray' object is not callable"
     ]
    }
   ],
   "source": [
    "pname = 'Blake Griffin'\n",
    "cap_df = player_lookup()\n",
    "pinfo = cap_df[cap_df['DISPLAY_LAST_COMMA_FIRST']==format_name_last_comma_first(pname)]\n",
    "pID = pinfo['PERSON_ID']\n",
    "print(pinfo.head())\n",
    "print(pID[0]))"
   ]
  },
  {
   "cell_type": "code",
   "execution_count": null,
   "metadata": {
    "collapsed": true
   },
   "outputs": [],
   "source": [
    "sc_params = {u'AheadBehind': u'',\n",
    " u'ClutchTime': u'',\n",
    " u'ContextFilter': u'',\n",
    " u'ContextMeasure': u'FGA',\n",
    " u'DateFrom': u'',\n",
    " u'DateTo': u'',\n",
    " u'EndPeriod': u'',\n",
    " u'EndRange': u'',\n",
    " u'GameID': u'',\n",
    " u'GameSegment': u'',\n",
    " u'LastNGames': 0,\n",
    " u'LeagueID': u'00',\n",
    " u'Location': u'',\n",
    " u'Month': 0,\n",
    " u'OpponentTeamID': 0,\n",
    " u'Outcome': u'',\n",
    " u'Period': 0,\n",
    " u'PlayerID': pID.values,\n",
    " u'PointDiff': u'',\n",
    " u'Position': u'',\n",
    " u'RangeType': u'',\n",
    " u'RookieYear': u'',\n",
    " u'Season': u'2015-16',\n",
    " u'SeasonSegment': u'',\n",
    " u'SeasonType': u'Regular Season',\n",
    " u'StartPeriod': u'',\n",
    " u'StartRange': u'',\n",
    " u'TeamID': 0,\n",
    " u'VsConference': u'',\n",
    " u'VsDivision': u''}\n",
    "\n",
    "baseurl = 'http://stats.nba.com/stats/shotchartdetail?'\n",
    "resp2 = requests.get(baseurl,params=sc_params)\n",
    "print(resp2.url)\n",
    "print(resp2.json().keys())\n",
    "player_shot_df = pd.DataFrame(resp2.json()['resultSets'][0]['rowSet'],columns=resp2.json()['resultSets'][0]['headers'])\n",
    "print(player_shot_df.shape)\n",
    "player_shot_df.head(5)"
   ]
  }
 ],
 "metadata": {
  "kernelspec": {
   "display_name": "Python 3",
   "language": "python",
   "name": "python3"
  },
  "language_info": {
   "codemirror_mode": {
    "name": "ipython",
    "version": 3
   },
   "file_extension": ".py",
   "mimetype": "text/x-python",
   "name": "python",
   "nbconvert_exporter": "python",
   "pygments_lexer": "ipython3",
   "version": "3.5.1"
  }
 },
 "nbformat": 4,
 "nbformat_minor": 0
}
